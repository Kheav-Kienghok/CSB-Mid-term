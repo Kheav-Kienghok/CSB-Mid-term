{
 "cells": [
  {
   "cell_type": "markdown",
   "metadata": {},
   "source": [
    "1. \n",
    "    > Complete the following class definitions to implement a base class Animal and derived classes Dog and Cat. \n",
    "    > Ensure that each derived class implements the speak method to print an appropriate message.\n",
    "\n",
    "```python\n",
    "class Animal:\n",
    "    def __init__(self, name):\n",
    "        self.name = name\n",
    "\n",
    "    def speak(self):\n",
    "        raise NotImplementedError(\"Subclass must implement abstract method\")\n",
    "\n",
    "class Dog(Animal):\n",
    "    def __init__(self, name, breed):\n",
    "        super().__init__(name)\n",
    "        self.breed = breed\n",
    "\n",
    "    def speak(self):\n",
    "        # Complete the method to print \"Woof! I am a {breed} named {name}\"\n",
    "        pass\n",
    "\n",
    "class Cat(Animal):\n",
    "    def __init__(self, name, color):\n",
    "        super().__init__(name)\n",
    "        self.color = color\n",
    "\n",
    "    def speak(self):\n",
    "        # Complete the method to print \"Meow! I am a {color} cat named {name}\"\n",
    "        pass\n",
    "```"
   ]
  },
  {
   "cell_type": "code",
   "execution_count": 5,
   "metadata": {},
   "outputs": [
    {
     "name": "stdout",
     "output_type": "stream",
     "text": [
      "Woof! I am a Husky named Buddy\n",
      "Meow! I am a Pink cat named Miki Mouse\n"
     ]
    }
   ],
   "source": [
    "class Animal:\n",
    "    def __init__(self, name):\n",
    "        self.name = name\n",
    "\n",
    "    def speak(self):\n",
    "        raise NotImplementedError(\"Subclass must implement abstract method\")\n",
    "\n",
    "class Dog(Animal):\n",
    "    def __init__(self, name, breed):\n",
    "        super().__init__(name)\n",
    "        self.breed = breed\n",
    "\n",
    "    def speak(self):\n",
    "        # Complete the method to print \"Woof! I am a {breed} named {name}\"\n",
    "        print(f\"Woof! I am a {self.breed} named {self.name}\")\n",
    "\n",
    "class Cat(Animal):\n",
    "    def __init__(self, name, color):\n",
    "        super().__init__(name)\n",
    "        self.color = color\n",
    "\n",
    "    def speak(self):\n",
    "        # Complete the method to print \"Meow! I am a {color} cat named {name}\"\n",
    "        print(f\"Meow! I am a {self.color} cat named {self.name}\")\n",
    "\n",
    "\n",
    "# Create instances of Dog and Cat and call their speak methods\n",
    "dog = Dog(\"Buddy\", \"Husky\")\n",
    "cat = Cat(\"Miki Mouse\", \"Pink\")\n",
    "\n",
    "dog.speak()\n",
    "cat.speak()"
   ]
  },
  {
   "cell_type": "markdown",
   "metadata": {},
   "source": [
    "2.\n",
    "    > Complete the following code to read a CSV file containing car data (columns: make, model, year, price) \n",
    "    > and calculate the average price of cars for each make.\n",
    "\n",
    "\n",
    "```python\n",
    "import csv\n",
    "\n",
    "def calculate_average_price(filename):\n",
    "    car_data = {}\n",
    "    with open(filename, 'r') as csvfile:\n",
    "        csvreader = csv.reader(csvfile)\n",
    "        next(csvreader)  # Skip header row\n",
    "        for row in csvreader:\n",
    "            make = row[0]\n",
    "            price = float(row[3])\n",
    "            if make not in car_data:\n",
    "                car_data[make] = []\n",
    "            car_data[make].append(price)\n",
    "\n",
    "    average_prices = {}\n",
    "    for make, prices in car_data.items():\n",
    "        # Complete the calculation of average price\n",
    "        average_prices[make] = \n",
    "\n",
    "    return average_prices\n",
    "\n",
    "# Example usage\n",
    "filename = 'cars.csv'\n",
    "average_prices = calculate_average_price(filename)\n",
    "print(average_prices)"
   ]
  },
  {
   "cell_type": "code",
   "execution_count": 26,
   "metadata": {},
   "outputs": [
    {
     "name": "stdout",
     "output_type": "stream",
     "text": [
      "{'Toyota': '24000.00', 'Honda': '23750.00', 'Ford': '23666.67'}\n"
     ]
    }
   ],
   "source": [
    "import csv\n",
    "\n",
    "def calculate_average_price(filename):\n",
    "    car_data = {}\n",
    "    with open(filename, 'r') as csvfile:\n",
    "        csvreader = csv.reader(csvfile)\n",
    "        next(csvreader)  # Skip header row\n",
    "        for row in csvreader:\n",
    "            make = row[0]\n",
    "            price = float(row[3])\n",
    "            if make not in car_data:\n",
    "                car_data[make] = []\n",
    "            car_data[make].append(price)\n",
    "\n",
    "    average_prices = {}\n",
    "    for make, prices in car_data.items():\n",
    "        # Complete the calculation of average price\n",
    "        average_prices[make] = f\"{(sum(prices) / len(prices)):.2f}\"\n",
    "\n",
    "    return average_prices\n",
    "\n",
    "\n",
    "# Example usage\n",
    "filename = './Resources/cars.csv'\n",
    "average_prices = calculate_average_price(filename)\n",
    "print(average_prices)"
   ]
  },
  {
   "cell_type": "markdown",
   "metadata": {},
   "source": [
    "3. \n",
    "    > Complete the following async IO code to fetch data from multiple URLs concurrently.\n",
    "\n",
    "```python\n",
    "import aiohttp\n",
    "import asyncio\n",
    "\n",
    "async def fetch(session, url):\n",
    "    async with session.get(url) as response:\n",
    "        return await response.text()\n",
    "\n",
    "async def main():\n",
    "    urls = [\n",
    "        'http://example.com/page1',\n",
    "        'http://example.com/page2',\n",
    "        'http://example.com/page3'\n",
    "    ]\n",
    "    \n",
    "    async with aiohttp.ClientSession() as session:\n",
    "        tasks = [fetch(session, url) for url in urls]\n",
    "        responses = await asyncio.gather(*tasks)\n",
    "        \n",
    "        for response in responses:\n",
    "            print(response)\n",
    "\n",
    "# Complete the code to run the async function"
   ]
  },
  {
   "cell_type": "code",
   "execution_count": 31,
   "metadata": {},
   "outputs": [
    {
     "name": "stdout",
     "output_type": "stream",
     "text": [
      "<coroutine object ClientResponse.text at 0x00000148959DC2E0>\n",
      "<coroutine object ClientResponse.text at 0x00000148959DC4A0>\n",
      "<coroutine object ClientResponse.text at 0x00000148959DC900>\n"
     ]
    },
    {
     "name": "stderr",
     "output_type": "stream",
     "text": [
      "C:\\Users\\User\\AppData\\Local\\Temp\\ipykernel_3148\\272103379.py:24: RuntimeWarning: coroutine 'ClientResponse.text' was never awaited\n",
      "  await main()\n",
      "RuntimeWarning: Enable tracemalloc to get the object allocation traceback\n"
     ]
    }
   ],
   "source": [
    "import aiohttp\n",
    "import asyncio\n",
    "\n",
    "async def fetch(session, url):\n",
    "    async with session.get(url) as response:\n",
    "        return response.text()\n",
    "\n",
    "async def main():\n",
    "    urls = [\n",
    "        'https://www.aupp.edu.kh/',\n",
    "        'https://www.cadt.edu.kh/',\n",
    "        'https://paragoniu.edu.kh/'\n",
    "    ]\n",
    "    \n",
    "    async with aiohttp.ClientSession() as session:\n",
    "        tasks = [fetch(session, url) for url in urls]\n",
    "        responses = await asyncio.gather(*tasks)\n",
    "        \n",
    "        for response in responses:\n",
    "            print(response)\n",
    "\n",
    "# Complete the code to run the async function\n",
    "if __name__ == \"__main__\":\n",
    "    await main()"
   ]
  },
  {
   "cell_type": "markdown",
   "metadata": {},
   "source": [
    "4.\n",
    "    > Complete the following code to use multiprocessing for parallel processing of a list of numbers to calculate their squares.\n",
    "\n",
    "```python\n",
    "import multiprocessing\n",
    "\n",
    "def square(number):\n",
    "    return number * number\n",
    "\n",
    "if __name__ == \"__main__\":\n",
    "    numbers = [1, 2, 3, 4, 5, 6, 7, 8, 9, 10]\n",
    "    \n",
    "    # Complete the code to use multiprocessing to calculate squares\n",
    "    with multiprocessing.Pool() as pool:\n",
    "        results = \n",
    "\n",
    "    print(results)"
   ]
  },
  {
   "cell_type": "code",
   "execution_count": null,
   "metadata": {},
   "outputs": [
    {
     "name": "stderr",
     "output_type": "stream",
     "text": [
      "C:\\Program Files\\WindowsApps\\PythonSoftwareFoundation.Python.3.11_3.11.2544.0_x64__qbz5n2kfra8p0\\Lib\\multiprocessing\\reduction.py:60: RuntimeWarning: coroutine 'main' was never awaited\n",
      "  ForkingPickler(file, protocol).dump(obj)\n",
      "RuntimeWarning: Enable tracemalloc to get the object allocation traceback\n"
     ]
    }
   ],
   "source": [
    "import multiprocessing\n",
    "\n",
    "def square(number):\n",
    "    return number * number\n",
    "\n",
    "if __name__ == \"__main__\":\n",
    "    numbers = [1, 2, 3, 4, 5, 6, 7, 8, 9, 10]\n",
    "    \n",
    "    # Complete the code to use multiprocessing to calculate squares\n",
    "    with multiprocessing.Pool() as pool:\n",
    "        results = pool.map(square, numbers)\n",
    "\n",
    "    print(results)"
   ]
  },
  {
   "cell_type": "markdown",
   "metadata": {},
   "source": [
    "5. \n",
    "    > Read the following code and find its possible output:\n",
    "\n",
    "```python\n",
    "numbers = [1, 2, 3, 4]\n",
    "squares = [n**2 for n in numbers if n % 2 == 0]\n",
    "print(squares)"
   ]
  },
  {
   "cell_type": "code",
   "execution_count": 1,
   "metadata": {},
   "outputs": [
    {
     "name": "stdout",
     "output_type": "stream",
     "text": [
      "[4, 16]\n"
     ]
    }
   ],
   "source": [
    "numbers = [1, 2, 3, 4]\n",
    "squares = [n ** 2 for n in numbers if n % 2 == 0]\n",
    "print(squares)"
   ]
  },
  {
   "cell_type": "markdown",
   "metadata": {},
   "source": [
    "6. \n",
    "    > Find the output of when:\n",
    "\n",
    "```python\n",
    "inventory = {'apples': 2, 'bananas': 5}\n",
    "inventory['bananas'] += 3\n",
    "inventory['oranges'] = 7\n",
    "del inventory['apples'] # means delete object\n",
    "print(inventory)"
   ]
  },
  {
   "cell_type": "code",
   "execution_count": 2,
   "metadata": {},
   "outputs": [
    {
     "name": "stdout",
     "output_type": "stream",
     "text": [
      "{'bananas': 8, 'oranges': 7}\n"
     ]
    }
   ],
   "source": [
    "inventory = {'apples': 2, 'bananas': 5}\n",
    "inventory['bananas'] += 3\n",
    "inventory['oranges'] = 7\n",
    "del inventory['apples'] # means delete object\n",
    "print(inventory)"
   ]
  },
  {
   "cell_type": "markdown",
   "metadata": {},
   "source": [
    "7. \n",
    "    > Assuming a file named test.txt contains the single line \"Hello Python\", what will the following code display?\n",
    "\n",
    "```python\n",
    "with open('test.txt', 'r') as file:\n",
    "    data = file.readline()\n",
    "    print(data)"
   ]
  },
  {
   "cell_type": "code",
   "execution_count": 3,
   "metadata": {},
   "outputs": [
    {
     "name": "stdout",
     "output_type": "stream",
     "text": [
      "Hello Python\n",
      "\n"
     ]
    }
   ],
   "source": [
    "with open('Resources/test.txt', 'r') as file:\n",
    "    data = file.readline()\n",
    "    print(data) "
   ]
  },
  {
   "cell_type": "markdown",
   "metadata": {},
   "source": [
    "8. \n",
    "\t> Assuming a file named test.txt contains the single line \"Python Code\", what will the following code display?\n",
    "\n",
    "```python\n",
    "file = open('test.txt', 'r')\n",
    "data = file.readline()\n",
    "print(data)\n",
    "file.close()\n"
   ]
  },
  {
   "cell_type": "code",
   "execution_count": 56,
   "metadata": {},
   "outputs": [
    {
     "name": "stdout",
     "output_type": "stream",
     "text": [
      "Python Code\n",
      "\n"
     ]
    }
   ],
   "source": [
    "file = open('Resources/test1.txt', 'r')\n",
    "data = file.readline()\n",
    "print(data)\n",
    "file.close()"
   ]
  },
  {
   "cell_type": "markdown",
   "metadata": {},
   "source": [
    "9. \n",
    "\t> What will be the output of the following code?\n",
    "\n",
    "```python\n",
    "a = {1, 2, 2, 3, 4}\n",
    "b = {3, 4, 5, 6}\n",
    "c = a.union(b)\n",
    "print(c)"
   ]
  },
  {
   "cell_type": "code",
   "execution_count": 9,
   "metadata": {},
   "outputs": [
    {
     "name": "stdout",
     "output_type": "stream",
     "text": [
      "{1, 2, 3, 4, 5, 6}\n"
     ]
    }
   ],
   "source": [
    "a = {1, 2, 2, 3, 4}\n",
    "b = {3, 4, 5, 6}\n",
    "c = a.union(b)\n",
    "print(c)"
   ]
  },
  {
   "cell_type": "markdown",
   "metadata": {},
   "source": [
    "10. \n",
    "\t> What is the output of the following code?\n",
    "\n",
    "```python\n",
    "my_tuple = (1, 2, 3, 4)\n",
    "print(my_tuple[1])"
   ]
  },
  {
   "cell_type": "code",
   "execution_count": 10,
   "metadata": {},
   "outputs": [
    {
     "name": "stdout",
     "output_type": "stream",
     "text": [
      "2\n"
     ]
    }
   ],
   "source": [
    "my_tuple = (1, 2, 3, 4)\n",
    "print(my_tuple[1])"
   ]
  },
  {
   "cell_type": "markdown",
   "metadata": {},
   "source": [
    "11. \n",
    "\t> Given the following graph representation, where the graph is a dictionary with nodes as keys \n",
    "\t> and a list of their neighbors as values, what is the degree of node 'A'?\n",
    "\n",
    "```python\n",
    "graph = {\n",
    "    'A': ['B', 'C'],\n",
    "    'B': ['A', 'D', 'E'],\n",
    "    'C': ['A', 'F'],\n",
    "    'D': ['B'],\n",
    "    'E': ['B', 'F'],\n",
    "    'F': ['C', 'E']\n",
    "}\n",
    "print(len(graph['A']))"
   ]
  },
  {
   "cell_type": "code",
   "execution_count": 11,
   "metadata": {},
   "outputs": [
    {
     "name": "stdout",
     "output_type": "stream",
     "text": [
      "2\n"
     ]
    }
   ],
   "source": [
    "graph = {\n",
    "    'A': ['B', 'C'],\n",
    "    'B': ['A', 'D', 'E'],\n",
    "    'C': ['A', 'F'],\n",
    "    'D': ['B'],\n",
    "    'E': ['B', 'F'],\n",
    "    'F': ['C', 'E']\n",
    "}\n",
    "print(len(graph['A']))"
   ]
  },
  {
   "cell_type": "markdown",
   "metadata": {},
   "source": [
    "12. \n",
    "\t> What does the following dictionary comprehension produce?\n",
    "\n",
    "```python\n",
    "squared = {x: x**2 for x in range(6)}\n",
    "print(squared[4])"
   ]
  },
  {
   "cell_type": "code",
   "execution_count": 12,
   "metadata": {},
   "outputs": [
    {
     "name": "stdout",
     "output_type": "stream",
     "text": [
      "16\n"
     ]
    }
   ],
   "source": [
    "squared = {x: x**2 for x in range(6)}\n",
    "print(squared[4])"
   ]
  },
  {
   "cell_type": "markdown",
   "metadata": {},
   "source": [
    "13. \n",
    "\t> What is the result of the following list slicing?\n",
    "\n",
    "```python\n",
    "numbers = [0, 10, 20, 30, 40, 50]\n",
    "print(numbers[1:4]) "
   ]
  },
  {
   "cell_type": "code",
   "execution_count": 13,
   "metadata": {},
   "outputs": [
    {
     "name": "stdout",
     "output_type": "stream",
     "text": [
      "[10, 20, 30]\n"
     ]
    }
   ],
   "source": [
    "numbers = [0, 10, 20, 30, 40, 50]\n",
    "print(numbers[1:4])"
   ]
  },
  {
   "cell_type": "markdown",
   "metadata": {},
   "source": [
    "14. \n",
    "\t> After executing the following set operations, what is the content of set3?\n",
    "\n",
    "```python\n",
    "set1 = {1, 2, 3, 4}\n",
    "set2 = {3, 4, 5, 6}\n",
    "set3 = set1.intersection(set2)\n",
    "print(set3)"
   ]
  },
  {
   "cell_type": "code",
   "execution_count": 14,
   "metadata": {},
   "outputs": [
    {
     "name": "stdout",
     "output_type": "stream",
     "text": [
      "{3, 4}\n"
     ]
    }
   ],
   "source": [
    "set1 = {1, 2, 3, 4}\n",
    "set2 = {3, 4, 5, 6}\n",
    "set3 = set1.intersection(set2)\n",
    "print(set3)"
   ]
  },
  {
   "cell_type": "markdown",
   "metadata": {},
   "source": [
    "15. \n",
    "\t> What will be the value of d after the following operations?\n",
    "\n",
    "```python\n",
    "d = {'a': 1, 'b': 2}\n",
    "d.update({'b': 10, 'c': 3})\n",
    "print(d) "
   ]
  },
  {
   "cell_type": "code",
   "execution_count": 15,
   "metadata": {},
   "outputs": [
    {
     "name": "stdout",
     "output_type": "stream",
     "text": [
      "{'a': 1, 'b': 10, 'c': 3}\n"
     ]
    }
   ],
   "source": [
    "d = {'a': 1, 'b': 2}\n",
    "d.update({'b': 10, 'c': 3})\n",
    "print(d)"
   ]
  },
  {
   "cell_type": "markdown",
   "metadata": {},
   "source": [
    "16. \n",
    "\t> What will be the output of the following code?\n",
    "\n",
    "```python\n",
    "my_list = [1, 2, 2, 3, 4, 4, 4, 5]\n",
    "my_set = set(my_list)\n",
    "print(len(my_set)) "
   ]
  },
  {
   "cell_type": "code",
   "execution_count": 16,
   "metadata": {},
   "outputs": [
    {
     "name": "stdout",
     "output_type": "stream",
     "text": [
      "5\n"
     ]
    }
   ],
   "source": [
    "my_list = [1, 2, 2, 3, 4, 4, 4, 5]\n",
    "my_set = set(my_list)\n",
    "print(len(my_set)) "
   ]
  },
  {
   "cell_type": "markdown",
   "metadata": {},
   "source": [
    "16. \n",
    "\t> What does the following code snippet do?\n",
    "\n",
    "```python\n",
    "with open('sample.txt', 'r') as file:\n",
    "    data = file.read()\n",
    "    print(data)"
   ]
  },
  {
   "cell_type": "code",
   "execution_count": 18,
   "metadata": {},
   "outputs": [
    {
     "name": "stdout",
     "output_type": "stream",
     "text": [
      "Hello World!\n",
      "\n"
     ]
    }
   ],
   "source": [
    "with open('Resources/sample.txt', 'r') as file:\n",
    "    data = file.read()\n",
    "    print(data)"
   ]
  },
  {
   "cell_type": "markdown",
   "metadata": {},
   "source": [
    "18. \n",
    "\t> What will be the result of the following set operation?\n",
    "\n",
    "```python\n",
    "a = {1, 2, 3, 4}\n",
    "b = {3, 4, 5, 6}\n",
    "c = a.union(b)\n",
    "print(len(c))"
   ]
  },
  {
   "cell_type": "code",
   "execution_count": 19,
   "metadata": {},
   "outputs": [
    {
     "name": "stdout",
     "output_type": "stream",
     "text": [
      "6\n"
     ]
    }
   ],
   "source": [
    "a = {1, 2, 3, 4}\n",
    "b = {3, 4, 5, 6}\n",
    "c = a.union(b)\n",
    "print(len(c))"
   ]
  },
  {
   "cell_type": "markdown",
   "metadata": {},
   "source": [
    "19. \n",
    "\t> What does the following list comprehension produce?\n",
    "\n",
    "```python\n",
    "squares = [x**2 for x in range(5)]\n",
    "print(squares)"
   ]
  },
  {
   "cell_type": "code",
   "execution_count": 20,
   "metadata": {},
   "outputs": [
    {
     "name": "stdout",
     "output_type": "stream",
     "text": [
      "[0, 1, 4, 9, 16]\n"
     ]
    }
   ],
   "source": [
    "squares = [x**2 for x in range(5)]\n",
    "print(squares) "
   ]
  },
  {
   "cell_type": "markdown",
   "metadata": {},
   "source": [
    "20. \n",
    "\t> What is the output of the following dictionary operation?\n",
    "\n",
    "```python\n",
    "d = {'a': 1, 'b': 2, 'c': 3}\n",
    "print('b' in d)"
   ]
  },
  {
   "cell_type": "code",
   "execution_count": 21,
   "metadata": {},
   "outputs": [
    {
     "name": "stdout",
     "output_type": "stream",
     "text": [
      "True\n"
     ]
    }
   ],
   "source": [
    "d = {'a': 1, 'b': 2, 'c': 3}\n",
    "print('b' in d)"
   ]
  },
  {
   "cell_type": "markdown",
   "metadata": {},
   "source": [
    "21. \n",
    "\t> What is the output of the following recursive function?\n",
    "\n",
    "```python\n",
    "def recur_sum(n):\n",
    "    if n <= 1:\n",
    "        return n\n",
    "    else:\n",
    "        return n + recur_sum(n-1)\n",
    "\n",
    "print(recur_sum(5))"
   ]
  },
  {
   "cell_type": "code",
   "execution_count": 22,
   "metadata": {},
   "outputs": [
    {
     "name": "stdout",
     "output_type": "stream",
     "text": [
      "15\n"
     ]
    }
   ],
   "source": [
    "def recur_sum(n):\n",
    "    if n <= 1:\n",
    "        return n\n",
    "    else:\n",
    "        return n + recur_sum(n-1)\n",
    "\n",
    "print(recur_sum(5)) "
   ]
  },
  {
   "cell_type": "markdown",
   "metadata": {},
   "source": [
    "22. \n",
    "    > What is the best-case performance of the following linear search algorithm?\n",
    "\n",
    "```python\n",
    "def linear_search(arr, x):\n",
    "    for i in range(len(arr)):\n",
    "        if arr[i] == x:\n",
    "            return i\n",
    "    return -1\n",
    "\n",
    "arr = [1, 2, 3, 4, 5]\n",
    "\n",
    "\n",
    "x = 1\n",
    "print(linear_search(arr, x))"
   ]
  },
  {
   "cell_type": "code",
   "execution_count": 57,
   "metadata": {},
   "outputs": [
    {
     "name": "stdout",
     "output_type": "stream",
     "text": [
      "0\n"
     ]
    }
   ],
   "source": [
    "def linear_search(arr, x):\n",
    "    for i in range(len(arr)):\n",
    "        if arr[i] == x:\n",
    "            return i\n",
    "    return -1\n",
    "\n",
    "arr = [1, 2, 3, 4, 5]\n",
    "\n",
    "x = 1\n",
    "print(linear_search(arr, x)) # O(1)"
   ]
  },
  {
   "cell_type": "markdown",
   "metadata": {},
   "source": [
    "23. \n",
    "    > What sorting algorithm is demonstrated below?\n",
    "\n",
    "```python\n",
    "def sort_function(arr):\n",
    "    n = len(arr)\n",
    "    for i in range(n):\n",
    "        for j in range(0, n-i-1):\n",
    "            if arr[j] > arr[j+1]:\n",
    "                arr[j], arr[j+1] = arr[j+1], arr[j]\n",
    "    return arr\n",
    "\n",
    "print(sort_function([5, 3, 2, 4, 1]))"
   ]
  },
  {
   "cell_type": "code",
   "execution_count": 58,
   "metadata": {},
   "outputs": [
    {
     "name": "stdout",
     "output_type": "stream",
     "text": [
      "[1, 2, 3, 4, 5]\n"
     ]
    }
   ],
   "source": [
    "def sort_function(arr):\n",
    "    n = len(arr)\n",
    "    for i in range(n):\n",
    "        for j in range(0, n-i-1):\n",
    "            if arr[j] > arr[j+1]:\n",
    "                arr[j], arr[j+1] = arr[j+1], arr[j]\n",
    "    return arr\n",
    "\n",
    "print(sort_function([5, 3, 2, 4, 1]))   # Bubble Sort"
   ]
  },
  {
   "cell_type": "markdown",
   "metadata": {},
   "source": [
    "24. \n",
    "    > How is the graph represented in the following code snippet?\n",
    "\n",
    "```python\n",
    "graph = {\n",
    "    'A': ['B', 'C'], \n",
    "    'B': ['A', 'D', 'E'], \n",
    "    'C': ['A', 'F'], \n",
    "    'D': ['B'], \n",
    "    'E': ['B', 'F'], \n",
    "    'F': ['C', 'E']\n",
    "}"
   ]
  },
  {
   "cell_type": "code",
   "execution_count": 59,
   "metadata": {},
   "outputs": [
    {
     "name": "stdout",
     "output_type": "stream",
     "text": [
      "{'A': ['B', 'C'], 'B': ['A', 'D', 'E'], 'C': ['A', 'F'], 'D': ['B'], 'E': ['B', 'F'], 'F': ['C', 'E']}\n"
     ]
    }
   ],
   "source": [
    "graph = {\n",
    "    'A': ['B', 'C'], \n",
    "    'B': ['A', 'D', 'E'], \n",
    "    'C': ['A', 'F'], \n",
    "    'D': ['B'], \n",
    "    'E': ['B', 'F'], \n",
    "    'F': ['C', 'E']\n",
    "}\n",
    "print(graph)      # Adjacency list"
   ]
  },
  {
   "cell_type": "markdown",
   "metadata": {},
   "source": [
    "25.\n",
    "    > What is the result of the following set operation?\n",
    "\n",
    "```python\n",
    "set1 = {1, 2, 3}\n",
    "set2 = {2, 3, 4}\n",
    "result = set1.difference(set2)\n",
    "print(result)"
   ]
  },
  {
   "cell_type": "code",
   "execution_count": 26,
   "metadata": {},
   "outputs": [
    {
     "name": "stdout",
     "output_type": "stream",
     "text": [
      "{1}\n"
     ]
    }
   ],
   "source": [
    "set1 = {1, 2, 3}\n",
    "set2 = {2, 3, 4}\n",
    "result = set1.difference(set2)\n",
    "print(result)"
   ]
  },
  {
   "cell_type": "markdown",
   "metadata": {},
   "source": [
    "26.\n",
    "    > What will be the content of dict3 after merging dict1 and dict2?\n",
    "\n",
    "```python\n",
    "dict1 = {'a': 1, 'b': 2}\n",
    "dict2 = {'b': 3, 'c': 4}\n",
    "dict3 = {**dict1, **dict2}\n",
    "print(dict3)"
   ]
  },
  {
   "cell_type": "code",
   "execution_count": 27,
   "metadata": {},
   "outputs": [
    {
     "name": "stdout",
     "output_type": "stream",
     "text": [
      "{'a': 1, 'b': 3, 'c': 4}\n"
     ]
    }
   ],
   "source": [
    "dict1 = {'a': 1, 'b': 2}\n",
    "dict2 = {'b': 3, 'c': 4}\n",
    "dict3 = {**dict1, **dict2}\n",
    "print(dict3)"
   ]
  },
  {
   "cell_type": "markdown",
   "metadata": {},
   "source": [
    "27.\n",
    "    > What will be the output of the following code snippet?\n",
    "\n",
    "```python\n",
    "try:\n",
    "    print(\"7\" + 5)\n",
    "except TypeError:\n",
    "    print(\"Type error occurred\")"
   ]
  },
  {
   "cell_type": "code",
   "execution_count": 28,
   "metadata": {},
   "outputs": [
    {
     "name": "stdout",
     "output_type": "stream",
     "text": [
      "Type error occurred\n"
     ]
    }
   ],
   "source": [
    "try:\n",
    "    print(\"7\" + 5)\n",
    "except TypeError:\n",
    "    print(\"Type error occurred\")"
   ]
  },
  {
   "cell_type": "markdown",
   "metadata": {},
   "source": [
    "28.\n",
    "\n",
    "```python\n",
    "add = lambda x, y: \n",
    "print(add(5, 3))  "
   ]
  },
  {
   "cell_type": "code",
   "execution_count": 29,
   "metadata": {},
   "outputs": [
    {
     "name": "stdout",
     "output_type": "stream",
     "text": [
      "8\n"
     ]
    }
   ],
   "source": [
    "add = lambda x, y: x + y\n",
    "print(add(5, 3))  "
   ]
  },
  {
   "cell_type": "markdown",
   "metadata": {},
   "source": [
    "29.\n",
    "    > Modify the lambda function to find the maximum of three numbers.\n",
    "\n",
    "```python\n",
    "max_num = lambda a, b: a if a > b else b  \n",
    "print(max_num(5, 7, 2)) "
   ]
  },
  {
   "cell_type": "code",
   "execution_count": 30,
   "metadata": {},
   "outputs": [
    {
     "name": "stdout",
     "output_type": "stream",
     "text": [
      "7\n"
     ]
    }
   ],
   "source": [
    "max_num = lambda a, b, c: a if a >= b and a >= c else (b if b >= c else c)\n",
    "print(max_num(5, 7, 2)) "
   ]
  },
  {
   "cell_type": "markdown",
   "metadata": {},
   "source": [
    "30.\n",
    "    > Complete the list comprehension to generate the squares of numbers from 1 to 10.\n",
    "\n",
    "```python\n",
    "squares = [#...add comprehension logic here ]\n",
    "print(squares)  "
   ]
  },
  {
   "cell_type": "code",
   "execution_count": 31,
   "metadata": {},
   "outputs": [
    {
     "name": "stdout",
     "output_type": "stream",
     "text": [
      "[1, 4, 9, 16, 25, 36, 49, 64, 81, 100]\n"
     ]
    }
   ],
   "source": [
    "squares = [num ** 2 for num in range(1, 11)]\n",
    "print(squares)  "
   ]
  },
  {
   "cell_type": "markdown",
   "metadata": {},
   "source": [
    "31.\n",
    "    > Modify the code to filter only even numbers using list comprehension.\n",
    "\n",
    "```python\n",
    "numbers = range(1, 21)\n",
    "evens = [#....add comprehension logic here ]\n",
    "print(evens)  # Expected output: [2, 4, 6, ..., 20]"
   ]
  },
  {
   "cell_type": "code",
   "execution_count": 32,
   "metadata": {},
   "outputs": [
    {
     "name": "stdout",
     "output_type": "stream",
     "text": [
      "[2, 4, 6, 8, 10, 12, 14, 16, 18, 20]\n"
     ]
    }
   ],
   "source": [
    "numbers = range(1, 21)\n",
    "evens = [num for num in numbers if num % 2 == 0]\n",
    "print(evens)  # Expected output: [2, 4, 6, ..., 20]"
   ]
  },
  {
   "cell_type": "markdown",
   "metadata": {},
   "source": [
    "32.\n",
    "    > Implement the __str__ method to display object information neatly.\n",
    "\n",
    "```python\n",
    "class Car:\n",
    "    def __init__(self, brand, year):\n",
    "        self.brand = brand\n",
    "        self.year = year\n",
    "\n",
    "    # Implement the __str__ method here\n",
    "\n",
    "my_car = Car('Toyota', 2020)\n",
    "print(my_car) "
   ]
  },
  {
   "cell_type": "code",
   "execution_count": 33,
   "metadata": {},
   "outputs": [
    {
     "name": "stdout",
     "output_type": "stream",
     "text": [
      "Car brand: Toyota, Year: 2020\n"
     ]
    }
   ],
   "source": [
    "class Car:\n",
    "    def __init__(self, brand, year):\n",
    "        self.brand = brand\n",
    "        self.year = year\n",
    "\n",
    "    # Implement the __str__ method here\n",
    "    def __str__(self):\n",
    "        return f\"Car brand: {self.brand}, Year: {self.year}\"\n",
    "\n",
    "my_car = Car('Toyota', 2020)\n",
    "print(my_car) "
   ]
  },
  {
   "cell_type": "markdown",
   "metadata": {},
   "source": [
    "33.\n",
    "    > Modify the code to use the __len__ magic function.\n",
    "\n",
    "```python\n",
    "class Collection:\n",
    "    def __init__(self, items):\n",
    "        self.items = items\n",
    "\n",
    "    # Add __len__ method to return the number of items\n",
    "\n",
    "c = Collection([1, 2, 3, 4])\n",
    "print(len(c)) "
   ]
  },
  {
   "cell_type": "code",
   "execution_count": 34,
   "metadata": {},
   "outputs": [
    {
     "name": "stdout",
     "output_type": "stream",
     "text": [
      "4\n"
     ]
    }
   ],
   "source": [
    "class Collection:\n",
    "    def __init__(self, items):\n",
    "        self.items = items\n",
    "\n",
    "    # Add __len__ method to return the number of items\n",
    "    def __len__(self):\n",
    "        return len(self.items)\n",
    "\n",
    "c = Collection([1, 2, 3, 4])\n",
    "print(len(c))"
   ]
  },
  {
   "cell_type": "markdown",
   "metadata": {},
   "source": [
    "34.\n",
    "    > Edit the code to correctly create a thread that prints numbers.\n",
    "\n",
    "```python\n",
    "import threading\n",
    "\n",
    "def print_numbers():\n",
    "    for i in range(5):\n",
    "        print(i)\n",
    "\n",
    "# Create and start the thread\n",
    "t = threading.Thread(target= # complete this part )\n",
    "t.start()"
   ]
  },
  {
   "cell_type": "code",
   "execution_count": 35,
   "metadata": {},
   "outputs": [
    {
     "name": "stdout",
     "output_type": "stream",
     "text": [
      "0\n",
      "1\n",
      "2\n",
      "3\n",
      "4\n"
     ]
    }
   ],
   "source": [
    "import threading\n",
    "\n",
    "def print_numbers():\n",
    "    for i in range(5):\n",
    "        print(i)\n",
    "\n",
    "# Create and start the thread\n",
    "t = threading.Thread(target = print_numbers)\n",
    "t.start()"
   ]
  },
  {
   "cell_type": "markdown",
   "metadata": {},
   "source": [
    "35.\n",
    "    > Complete the multiprocessing code to correctly print process name.\n",
    "\n",
    "```python\n",
    "from multiprocessing import Process, current_process\n",
    "\n",
    "def show_process_name():\n",
    "    print(\"Process name:\", current_process().name)\n",
    "\n",
    "# Create and start the process\n",
    "p = Process(target= # complete this part )\n",
    "p.start() "
   ]
  },
  {
   "cell_type": "code",
   "execution_count": 46,
   "metadata": {},
   "outputs": [],
   "source": [
    "from multiprocessing import Process, current_process\n",
    "\n",
    "def show_process_name():\n",
    "    print(\"Process name:\", current_process().name)\n",
    "\n",
    "if __name__ == '__main__':\n",
    "    # Create and start the process\n",
    "    \n",
    "    p = Process(target = show_process_name)\n",
    "    p.start()"
   ]
  },
  {
   "cell_type": "markdown",
   "metadata": {},
   "source": [
    "36.\n",
    "    > Complete the multiprocessing code to correctly print process name.\n",
    "\n",
    "```python\n",
    "from multiprocessing import Process, current_process\n",
    "\n",
    "def show_process_name():\n",
    "    print(\"Process name:\", current_process().name)\n",
    "\n",
    "# Create and start the process\n",
    "p = Process(target= # complete this part )\n",
    "p.start() "
   ]
  },
  {
   "cell_type": "code",
   "execution_count": 47,
   "metadata": {},
   "outputs": [],
   "source": [
    "from multiprocessing import Process, current_process\n",
    "\n",
    "def show_process_name():\n",
    "    print(\"Process name:\", current_process().name)\n",
    "\n",
    "# Create and start the process\n",
    "p = Process(target = show_process_name)\n",
    "p.start()"
   ]
  },
  {
   "cell_type": "markdown",
   "metadata": {},
   "source": [
    "37.\n",
    "    > Complete the code to fetch data asynchronously using async and await.\n",
    "\n",
    "```python\n",
    "import asyncio\n",
    "\n",
    "async def fetch_data():\n",
    "    print(\"Fetching data...\")\n",
    "    await asyncio.sleep(2)\n",
    "    print(\"Data fetched.\")\n",
    "\n",
    "# Create an event loop and run the coroutine\n",
    "asyncio.run( # complete this part )"
   ]
  },
  {
   "cell_type": "code",
   "execution_count": 49,
   "metadata": {},
   "outputs": [
    {
     "name": "stdout",
     "output_type": "stream",
     "text": [
      "Fetching data...\n",
      "Data fetched.\n"
     ]
    }
   ],
   "source": [
    "import asyncio \n",
    "\n",
    "async def fetch_data():\n",
    "    print(\"Fetching data...\")\n",
    "    await asyncio.sleep(2)\n",
    "    print(\"Data fetched.\")\n",
    "\n",
    "# Create an event loop and run the coroutine\n",
    "await fetch_data()"
   ]
  },
  {
   "cell_type": "markdown",
   "metadata": {},
   "source": [
    "38. \n",
    "    > Modify the code to run multiple coroutines simultaneously.\n",
    "\n",
    "```python\n",
    "import asyncio\n",
    "\n",
    "async def task1():\n",
    "    print(\"Task 1 running...\")\n",
    "    await asyncio.sleep(1)\n",
    "    print(\"Task 1 done.\")\n",
    "\n",
    "async def task2():\n",
    "    print(\"Task 2 running...\")\n",
    "    await asyncio.sleep(2)\n",
    "    print(\"Task 2 done.\")\n",
    "\n",
    "# Run both tasks concurrently\n",
    "asyncio.run( # complete this part )"
   ]
  },
  {
   "cell_type": "code",
   "execution_count": 52,
   "metadata": {},
   "outputs": [
    {
     "name": "stdout",
     "output_type": "stream",
     "text": [
      "Task 1 running...\n",
      "Task 2 running...\n",
      "Task 1 done.\n",
      "Task 2 done.\n"
     ]
    }
   ],
   "source": [
    "import asyncio\n",
    "\n",
    "async def task1():\n",
    "    print(\"Task 1 running...\")\n",
    "    await asyncio.sleep(1)\n",
    "    print(\"Task 1 done.\")\n",
    "\n",
    "async def task2():\n",
    "    print(\"Task 2 running...\")\n",
    "    await asyncio.sleep(2)\n",
    "    print(\"Task 2 done.\")\n",
    "\n",
    "async def main():\n",
    "    # Run both tasks concurrently\n",
    "    await asyncio.gather(task1(), task2())\n",
    "\n",
    "# Run the event loop\n",
    "await main()"
   ]
  },
  {
   "cell_type": "markdown",
   "metadata": {},
   "source": [
    "39.\n",
    "    > Complete the decorator to log the execution of a function.\n",
    "\n",
    "```python\n",
    "def log_decorator(func):\n",
    "    def wrapper(*args, **kwargs):\n",
    "        print(f\"Calling {func.__name__}\")\n",
    "        return func(*args, **kwargs)\n",
    "    return wrapper\n",
    "\n",
    "# Apply the decorator to the function\n",
    "@ # complete this part\n",
    "def greet(name):\n",
    "    print(f\"Hello, {name}!\")\n",
    "\n",
    "greet(\"Alice\")  # Expected output: Log message + \"Hello, Alice!\""
   ]
  },
  {
   "cell_type": "code",
   "execution_count": 40,
   "metadata": {},
   "outputs": [
    {
     "name": "stdout",
     "output_type": "stream",
     "text": [
      "Calling greet\n",
      "Hello, Alice!\n"
     ]
    }
   ],
   "source": [
    "def log_decorator(func):\n",
    "    def wrapper(*args, **kwargs):\n",
    "        print(f\"Calling {func.__name__}\")\n",
    "        return func(*args, **kwargs)\n",
    "    return wrapper\n",
    "\n",
    "# Apply the decorator to the function\n",
    "@log_decorator\n",
    "def greet(name):\n",
    "    print(f\"Hello, {name}!\")\n",
    "\n",
    "greet(\"Alice\")  # Expected output: Log message + \"Hello, Alice!\""
   ]
  },
  {
   "cell_type": "markdown",
   "metadata": {},
   "source": [
    "40.\n",
    "    > Implement a descriptor to manage access to an attribute.\n",
    "\n",
    "```python\n",
    "class Value:\n",
    "    def __init__(self, initial_value=None):\n",
    "        self._value = initial_value\n",
    "\n",
    "    def __get__(self, instance, owner):\n",
    "        # Implement this part to return the value\n",
    "    \n",
    "    def __set__(self, instance, value):\n",
    "        # Implement this part to set the value\n",
    "\n",
    "class MyClass:\n",
    "    attribute = Value()\n",
    "\n",
    "obj = MyClass()\n",
    "obj.attribute = 10\n",
    "print(obj.attribute)  # Expected output: 10"
   ]
  },
  {
   "cell_type": "code",
   "execution_count": 62,
   "metadata": {},
   "outputs": [
    {
     "name": "stdout",
     "output_type": "stream",
     "text": [
      "10\n"
     ]
    }
   ],
   "source": [
    "class Value:\n",
    "    def __init__(self, initial_value = None):\n",
    "        self._value = initial_value\n",
    "\n",
    "    def __get__(self, instance, owner):\n",
    "        # Implement this part to return the value\n",
    "        return self._value\n",
    "    \n",
    "    def __set__(self, instance, value):\n",
    "        # Implement this part to set the value\n",
    "        self._value = value\n",
    "\n",
    "class MyClass:\n",
    "    attribute = Value()\n",
    "\n",
    "obj = MyClass()\n",
    "obj.attribute = 10\n",
    "print(obj.attribute)  # Expected output: 10"
   ]
  },
  {
   "cell_type": "markdown",
   "metadata": {},
   "source": [
    "41. \n",
    "    > Complete the generator function to yield the first n even numbers.\n",
    "\n",
    "```python\n",
    "def even_numbers(n):\n",
    "    # Add generator logic here\n",
    "\n",
    "evens = even_numbers(5)\n",
    "print(list(evens))  # Expected output: [0, 2, 4, 6, 8]"
   ]
  },
  {
   "cell_type": "code",
   "execution_count": 55,
   "metadata": {},
   "outputs": [
    {
     "name": "stdout",
     "output_type": "stream",
     "text": [
      "[0, 2, 4, 6, 8]\n"
     ]
    }
   ],
   "source": [
    "def even_numbers(n):\n",
    "    # Add generator logic here\n",
    "    for i in range(n):\n",
    "        yield 2 * i\n",
    "\n",
    "evens = even_numbers(5)\n",
    "print(list(evens))  # Expected output: [0, 2, 4, 6, 8]"
   ]
  },
  {
   "cell_type": "markdown",
   "metadata": {},
   "source": [
    "42. \n",
    "    > Edit the code to use a generator expression instead of a list.\n",
    "\n",
    "```python\n",
    "numbers = ( # complete this part to create a generator expression )\n",
    "for num in numbers:\n",
    "    print(num)  # Expected: Print numbers from 1 to 5 one by one"
   ]
  },
  {
   "cell_type": "code",
   "execution_count": 43,
   "metadata": {},
   "outputs": [
    {
     "name": "stdout",
     "output_type": "stream",
     "text": [
      "1\n",
      "2\n",
      "3\n",
      "4\n",
      "5\n"
     ]
    }
   ],
   "source": [
    "numbers = (num for num in range(1, 6))\n",
    "for num in numbers:\n",
    "    print(num)  # Expected: Print numbers from 1 to 5 one by one"
   ]
  }
 ],
 "metadata": {
  "kernelspec": {
   "display_name": "Python 3",
   "language": "python",
   "name": "python3"
  },
  "language_info": {
   "codemirror_mode": {
    "name": "ipython",
    "version": 3
   },
   "file_extension": ".py",
   "mimetype": "text/x-python",
   "name": "python",
   "nbconvert_exporter": "python",
   "pygments_lexer": "ipython3",
   "version": "3.11.9"
  }
 },
 "nbformat": 4,
 "nbformat_minor": 4
}
